{
 "cells": [
  {
   "cell_type": "code",
   "execution_count": 1,
   "metadata": {},
   "outputs": [
    {
     "name": "stdout",
     "output_type": "stream",
     "text": [
      "How can I address you?\tТатьяна\n",
      "What year were you born in?\t1987\n",
      "What age would you like to plan for?\t35\n",
      "Will be happy to attend your 35 th birthday in the year 2022 , dear Татьяна !\n"
     ]
    }
   ],
   "source": [
    "usernameinput=raw_input(\"How can I address you?\\t\")\n",
    "userageinput=int(raw_input(\"What year were you born in?\\t\"))\n",
    "\n",
    "while userageinput <1850 :\n",
    "    print('Please check if you told me your real age')\n",
    "    userageinput=int(raw_input(\"What year were you born in?\\t\"))\n",
    "    \n",
    "else:\n",
    "    usernewageinput=int(raw_input(\"What age would you like to plan for?\\t\"))\n",
    "    print \"Will be happy to attend your\", usernewageinput, \"th birthday in the year\", userageinput+usernewageinput, \", dear\", usernameinput, \"!\"\n",
    "\n"
   ]
  },
  {
   "cell_type": "code",
   "execution_count": 4,
   "metadata": {},
   "outputs": [
    {
     "name": "stdout",
     "output_type": "stream",
     "text": [
      "False\n"
     ]
    }
   ],
   "source": [
    "#Задание 1\n",
    "#Даны 2 строки long_phrase и short_phrase. Напишите код, который проверяет действительно ли длинная фраза \n",
    "#long_phrase длиннее короткой short_phrase. И выводит True или False в зависимости от результата сравнения.\n",
    "long_phrase = \"Насколько проще было бы писать программы, если бы не заказчики\"\n",
    "short_phrase = \"640 Кб должно хватить для любых задач. Билл Гейтс (по легенде)\"\n",
    "\n",
    "print(len(long_phrase) > len(short_phrase))\n"
   ]
  },
  {
   "cell_type": "code",
   "execution_count": 7,
   "metadata": {},
   "outputs": [
    {
     "name": "stdout",
     "output_type": "stream",
     "text": [
      "What is the file size in bytes? 1231234\n",
      "That is 1.231234 megabytes, sir\n"
     ]
    }
   ],
   "source": [
    "#Задание 2\n",
    "#Дано значение объема файла в байтах. Напишите перевод этого значения в мегабайты в формате:\n",
    "#‘Объем файла равен 213.68Mb’\n",
    "file_size=input(\"What is the file size in bytes? \")\n",
    "print(f'That is {int(file_size)*0.000001} megabytes, sir.')"
   ]
  },
  {
   "cell_type": "code",
   "execution_count": 118,
   "metadata": {},
   "outputs": [
    {
     "name": "stdout",
     "output_type": "stream",
     "text": [
      "Определим ваш знак зодиака. Введите ваш день рождения в формате ДД.ММ, пожалуйста: 3\n"
     ]
    },
    {
     "ename": "ValueError",
     "evalue": "invalid literal for int() with base 10: ''",
     "output_type": "error",
     "traceback": [
      "\u001b[0;31m---------------------------------------------------------------------------\u001b[0m",
      "\u001b[0;31mValueError\u001b[0m                                Traceback (most recent call last)",
      "\u001b[0;32m<ipython-input-118-7d2ce01de555>\u001b[0m in \u001b[0;36m<module>\u001b[0;34m\u001b[0m\n\u001b[1;32m     22\u001b[0m     \u001b[0mbirthday\u001b[0m\u001b[0;34m=\u001b[0m\u001b[0mint\u001b[0m\u001b[0;34m(\u001b[0m\u001b[0mbirthdate\u001b[0m\u001b[0;34m[\u001b[0m\u001b[0;36m0\u001b[0m\u001b[0;34m:\u001b[0m\u001b[0;36m2\u001b[0m\u001b[0;34m]\u001b[0m\u001b[0;34m)\u001b[0m\u001b[0;34m\u001b[0m\u001b[0;34m\u001b[0m\u001b[0m\n\u001b[1;32m     23\u001b[0m     \u001b[0;31m#print(birthday)\u001b[0m\u001b[0;34m\u001b[0m\u001b[0;34m\u001b[0m\u001b[0;34m\u001b[0m\u001b[0m\n\u001b[0;32m---> 24\u001b[0;31m     \u001b[0mbirthmonth\u001b[0m\u001b[0;34m=\u001b[0m\u001b[0mint\u001b[0m\u001b[0;34m(\u001b[0m\u001b[0mbirthdate\u001b[0m\u001b[0;34m[\u001b[0m\u001b[0;36m3\u001b[0m\u001b[0;34m:\u001b[0m\u001b[0;36m5\u001b[0m\u001b[0;34m]\u001b[0m\u001b[0;34m)\u001b[0m\u001b[0;34m\u001b[0m\u001b[0;34m\u001b[0m\u001b[0m\n\u001b[0m\u001b[1;32m     25\u001b[0m \u001b[0;34m\u001b[0m\u001b[0m\n\u001b[1;32m     26\u001b[0m \u001b[0;34m\u001b[0m\u001b[0m\n",
      "\u001b[0;31mValueError\u001b[0m: invalid literal for int() with base 10: ''"
     ]
    }
   ],
   "source": [
    "#Задание 3.\n",
    "#Разработать приложение для определения знака зодиака по дате рождения.\n",
    "#Пример:\n",
    "#Введите месяц: март\n",
    "#Введите число: 6\n",
    "#Вывод:\n",
    "#Рыбы\n",
    "#from itertools import cycle\n",
    "birthdate = birthmonth = birthday = False\n",
    "\n",
    "date=range(1,31)\n",
    "month=range(1,12)\n",
    "while (birthday not in date or birthmonth not in month):\n",
    "    birthdate=input(\"Определим ваш знак зодиака. Введите ваш день рождения в формате ДД.ММ, пожалуйста: \")\n",
    "#   !!!\n",
    "# КАК СДЕЛАТЬ ПРОВЕРКУ ВВОДА?\n",
    "#    check_birthdate=cycle(birthdate)\n",
    "#    for i in check_birthdate:\n",
    "#        if i not in (int, '.'):\n",
    "#            print (\"Используйте правильный формат, пожалуйста.\")\n",
    "\n",
    "    birthday=int(birthdate[0:2])\n",
    "    #print(birthday)\n",
    "    birthmonth=int(birthdate[3:5])\n",
    "\n",
    "\n",
    "#if (birthmonth == 1):\n",
    "#    if birthday<20: zodiac_sign = \"Козерог\"\n",
    "#    else: zodiac_sign = \"Водолей\"\n",
    "\n",
    "zodiac=['Водолей','Рыбы','Овен','Телец','Близнецы','Рак','Лев','Дева','Весы','Скорпион','Стрелец','Козерог']\n",
    "\n",
    "zodiac_sign= zodiac[birthmonth-2]\n",
    "#if (birthday < 19):\n",
    "#    zodiac_sign= zodiac[birthmonth-2]\n",
    "#if (birthday=19 and birthmonth=2)\n",
    "#    zodiac_sign= zodiac[birthmonth-1]\n",
    "if (birthday==21 and birthmonth in (1,3,4)):\n",
    "    zodiac_sign= zodiac[birthmonth-1]\n",
    "if (birthday==22 and birthmonth in (5,6,12)):\n",
    "    zodiac_sign= zodiac[birthmonth-1]\n",
    "if (birthday==23 and birthmonth in (7,11)):\n",
    "    zodiac_sign= zodiac[birthmonth-1]\n",
    "if (birthday>=24 and birthmonth in (8,9,10)):\n",
    "    zodiac_sign= zodiac[birthmonth-1]\n",
    "\n",
    "    \n",
    "print(f'Да вы — {zodiac_sign}, матушка!')"
   ]
  },
  {
   "cell_type": "code",
   "execution_count": 120,
   "metadata": {},
   "outputs": [
    {
     "name": "stdout",
     "output_type": "stream",
     "text": [
      "Введите размер зарплаты: 90000\n",
      "Введите размер ипотеки как процент от зарплаты: 20\n",
      "Введите размер других расходов как процент от зарплаты: 50\n",
      "Введите количество премий в году: 5\n",
      "Потрачено на ипотеку: 216000.0\n",
      "Потрачено на другое: 540000.0\n",
      "Потрачено на отпуск: 225000.0\n",
      "Накопления: 99000.0\n"
     ]
    }
   ],
   "source": [
    "#Задание 4.\n",
    "#Нужно разработать приложение для финансового планирования.\n",
    "#Приложение учитывает сколько уходит на ипотеку, “на жизнь” и сколько нужно отложить на пенсию.\n",
    "#Пользователь вводит заработанную плату в месяц.\n",
    "#Сколько процентов от зп уходит на ипотеку.\n",
    "#Сколько процентов от зп уходит “на жизнь”.\n",
    "#Сколько раз приходит премия в год.\n",
    "#Остальная часть заработанной платы откладывается на пенсию.\n",
    "#Также пользователю приходит премия в размере зарплаты, от которой половина уходит на отпуск, а вторая половина откладывается.\n",
    "#Программа должна учитывать сколько премий было в год.\n",
    "#Нужно вывести сколько денег тратит пользователь на ипотеку и сколько он накопит за год.\n",
    "#Пример:\n",
    "\n",
    "#Введите заработанную плату в месяц: 100000\n",
    "#Введите сколько процентов уходит на ипотеку: 30\n",
    "#Введите сколько процентов уходит на жизнь: 50\n",
    "#Введите количество премий за год: 2\n",
    "\n",
    "#Вывод:\n",
    "#На ипотеку было потрачено: 360000 рублей\n",
    "#Было накоплено: 340000 рублей\n",
    "\n",
    "salary=int(input(\"Введите размер зарплаты: \"))\n",
    "mortgage_percentage=int(input(\"Введите размер ипотеки как процент от зарплаты: \"))\n",
    "misc_percentage=int(input(\"Введите размер других расходов как процент от зарплаты: \"))\n",
    "bonus_count=int(input(\"Введите количество премий в году: \"))\n",
    "\n",
    "mortgage_annual=mortgage_percentage/100*salary*12\n",
    "misc_annual=misc_percentage/100*salary*12\n",
    "print(f'Потрачено на ипотеку: {mortgage_annual}')\n",
    "print(f'Потрачено на другое: {misc_annual}')\n",
    "print(f'Потрачено на отпуск: {bonus_count*salary/2}')\n",
    "print(f'Накопления: {salary*12-mortgage_annual-misc_annual-bonus_count*salary/2}')\n"
   ]
  },
  {
   "cell_type": "code",
   "execution_count": 16,
   "metadata": {},
   "outputs": [
    {
     "name": "stdout",
     "output_type": "stream",
     "text": [
      "Идеальные пары:\n",
      "Alex и Emma\n",
      "Arthur и Kate\n",
      "John и Kira\n",
      "Peter и Liza\n",
      "Richard и Trisha\n"
     ]
    }
   ],
   "source": [
    "# Homework 2\n",
    "# Задача 2. Мы делаем MVP dating-сервиса, и у нас есть список парней и девушек (их число может варьироваться):\n",
    "\n",
    "#In [9]:\n",
    "#boys = ['Peter', 'Alex', 'John', 'Arthur', 'Richard']\n",
    "#girls = ['Kate', 'Liza', 'Kira', 'Emma', 'Trisha']\n",
    "#Выдвигаем гипотезу: лучшие рекомендации мы получим, если просто отсортируем имена по алфавиту и познакомим людей с одинаковыми индексами после сортировки! \"Познакомить\" пары нам поможет функция zip, а в цикле распакуем zip-объект и выведем информацию в виде:\n",
    "\n",
    "#Идеальные пары:\n",
    "#Alex и Emma\n",
    "#Arthur и Kate\n",
    "#John и Kira\n",
    "#Peter и Liza\n",
    "#Richard и Trisha\n",
    "\n",
    "#Внимание! Если количество людей в списках будет не совпадать, то мы никого знакомить не будет и выведем пользователю предупреждение, что кто-то может остаться без пары!\n",
    "\n",
    "boys = ['Peter', 'Alex', 'John', 'Arthur', 'Richard']\n",
    "girls = ['Kate', 'Liza', 'Kira', 'Emma', 'Trisha']\n",
    "\n",
    "if len(boys)!=len(girls):\n",
    "    print(\"Количество парней и девушек не совпадает, кто-то может остаться без пары!\")\n",
    "\n",
    "boys_sorted=sorted(boys)\n",
    "girls_sorted=sorted(girls)\n",
    "\n",
    "i=0\n",
    "print('Идеальные пары:')\n",
    "while i < len(boys):\n",
    "    print(f'{boys_sorted[i]} и {girls_sorted[i]}')\n",
    "    i+=1"
   ]
  },
  {
   "cell_type": "code",
   "execution_count": 30,
   "metadata": {},
   "outputs": [
    {
     "name": "stdout",
     "output_type": "stream",
     "text": [
      "Thailand = 23.86\n",
      "Germany = 13.71\n",
      "Russia = 3.71\n",
      "Poland = 11.86\n"
     ]
    }
   ],
   "source": [
    "# Homework 2\n",
    "# Задача 3. У нас есть список, содержащий информацию о среднедневной температуре в Фаренгейтах за недельный период по странам. \n",
    "# Необходимо написать код, который рассчитает среднюю температуру за неделю в Цельсиях для каждой страны.\n",
    "\n",
    "\n",
    "countries_temperature = [\n",
    " ['Thailand', [75.2, 77, 78.8, 73.4, 68, 75.2, 77]],\n",
    " ['Germany', [57.2, 55.4, 59, 59, 53.6, 55.4, 57.2]],\n",
    " ['Russia', [35.6, 37.4, 39.2, 41, 42.8, 39.2, 35.6]],\n",
    " ['Poland', [50, 50, 53.6, 57.2, 55.4, 55.4, 51.8]],\n",
    "]\n",
    "\n",
    "def temp_celcius_average(country_data):\n",
    "    country_celcius_average=list()\n",
    "    for i in range(0,len(country_data)):\n",
    "        #while j in range (0,len(country_data[i][1])):\n",
    "        country_celcius_average.append((sum(country_data[i][1])/len(country_data[i][1])-32)*5/9)\n",
    "    return country_celcius_average\n",
    "       \n",
    "for i in range (0,len(countries_temperature)):\n",
    "    print(f'{countries_temperature[i][0]} = {round(temp_celcius_average(countries_temperature)[i],2)}')         \n",
    "        "
   ]
  },
  {
   "cell_type": "code",
   "execution_count": 51,
   "metadata": {
    "scrolled": true
   },
   "outputs": [
    {
     "name": "stdout",
     "output_type": "stream",
     "text": [
      "1\n"
     ]
    }
   ],
   "source": [
    "# Homework 2\n",
    "# Задача 4. Дан поток логов по количеству просмотренных страниц для каждого пользователя. Список отсортирован по ID пользователя. \n",
    "# Вам необходимо написать алгоритм, который считает среднее значение просмотров на пользователя. \n",
    "# Т. е. надо посчитать отношение суммы всех просмотров к количеству уникальных пользователей.\n",
    "\n",
    "\n",
    "import collections\n",
    "\n",
    "stream = [\n",
    "    '2018-01-01,user1,3',\n",
    "    '2018-01-07,user1,4',\n",
    "    '2018-03-29,user1,1',\n",
    "    '2018-04-04,user1,13',\n",
    "    '2018-01-05,user2,7',\n",
    "    '2018-06-14,user3,4',\n",
    "    '2018-07-02,user3,10',\n",
    "    '2018-03-21,user4,19',\n",
    "    '2018-03-22,user4,4',\n",
    "    '2018-04-22,user4,8',\n",
    "    '2018-05-03,user4,9',\n",
    "    '2018-05-11,user4,11',\n",
    "]\n",
    "\n",
    "#??\n",
    "#def average_views_per_user(log):\n",
    "#    user_views_count = list()\n",
    "#    start = 'user'\n",
    "#    end = ','\n",
    "#    while i in range(0,len(log):\n",
    "#        user_views_count.append([log.find(start)+len(start):s.rfind(end)]\n",
    "#    return user_views\n",
    "\n",
    "    \n",
    "#print(average_views_per_user(stream))\n",
    "#??\n",
    "        "
   ]
  },
  {
   "cell_type": "code",
   "execution_count": 65,
   "metadata": {},
   "outputs": [
    {
     "name": "stdout",
     "output_type": "stream",
     "text": [
      "Введите дату (строку для поиска): 2018-01-03\n",
      "Введите название компании (строку для поиска): google\n",
      "Найдено\n",
      "Найдено\n",
      "Индексы: [1843, 1327]\n"
     ]
    }
   ],
   "source": [
    "# Homework 2\n",
    "# Задача 5. Дана статистика рекламных кампаний по дням. \n",
    "# Напишите алгоритм, который по паре дата-кампания ищет значение численного столбца. \n",
    "# Т. е. для даты '2018-01-01' и 'google' нужно получить число 25. Считайте, что все комбинации дата-кампания уникальны.\n",
    "\n",
    "\n",
    "stats = [\n",
    "    ['2018-01-01', 'google', 25],\n",
    "    ['2018-01-01', 'yandex', 65],\n",
    "    ['2018-01-01', 'market', 89],\n",
    "    ['2018-01-02', 'google', 574],\n",
    "    ['2018-01-02', 'yandex', 249],\n",
    "    ['2018-01-02', 'market', 994],\n",
    "    ['2018-01-03', 'google', 1843],\n",
    "    ['2018-01-03', 'google', 1327],\n",
    "    ['2018-01-03', 'market', 1764],\n",
    "]\n",
    "\n",
    "date = input(\"Введите дату (строку для поиска): \")\n",
    "company = input(\"Введите название компании (строку для поиска): \")\n",
    "indexes = list()\n",
    "i=0\n",
    "while i < len(stats):\n",
    "    if stats[i][0]==date and stats[i][1]==company:\n",
    "        print (\"Найдено\")\n",
    "        indexes.append(stats[i][2])\n",
    "    i+=1\n",
    "        \n",
    "print (f'Индексы: {indexes}')"
   ]
  },
  {
   "cell_type": "code",
   "execution_count": 74,
   "metadata": {},
   "outputs": [
    {
     "name": "stdout",
     "output_type": "stream",
     "text": [
      "j+1\n",
      "j+1\n",
      "j+1\n",
      "j+1\n",
      "i+1\n",
      "j+1\n",
      "j+1\n",
      "j+1\n",
      "j+1\n",
      "i+1\n",
      "j+1\n",
      "j+1\n",
      "j+1\n",
      "j+1\n",
      "i+1\n",
      "j+1\n",
      "j+1\n",
      "j+1\n",
      "j+1\n",
      "i+1\n",
      "103\n"
     ]
    }
   ],
   "source": [
    "# Homework 2\n",
    "# Задача 6. Дан список.\n",
    "# Напишите код, который будет вычислять сумму элементов на диагонали. Т. е. 13+32+23+35.\n",
    "# Список может быть любой длины, но всегда является \"квадратным\" (количество элементов во вложенных списках равно их количеству).\n",
    "\n",
    "data = [\n",
    "    [13, 25, 23, 34],\n",
    "    [45, 32, 44, 47],\n",
    "    [12, 33, 23, 95],\n",
    "    [13, 53, 34, 35]\n",
    "]\n",
    "\n",
    "diag_sum=i=j=0\n",
    "\n",
    "while i<len(data):\n",
    "    j=0\n",
    "    while j<len(data):\n",
    "        if i==j:\n",
    "            diag_sum+=data[i][j]\n",
    "        j+=1\n",
    "    i+=1\n",
    "\n",
    "print (diag_sum)\n",
    "    "
   ]
  },
  {
   "cell_type": "code",
   "execution_count": null,
   "metadata": {},
   "outputs": [],
   "source": []
  }
 ],
 "metadata": {
  "kernelspec": {
   "display_name": "Python 3",
   "language": "python",
   "name": "python3"
  },
  "language_info": {
   "codemirror_mode": {
    "name": "ipython",
    "version": 3
   },
   "file_extension": ".py",
   "mimetype": "text/x-python",
   "name": "python",
   "nbconvert_exporter": "python",
   "pygments_lexer": "ipython3",
   "version": "3.7.6"
  }
 },
 "nbformat": 4,
 "nbformat_minor": 2
}
