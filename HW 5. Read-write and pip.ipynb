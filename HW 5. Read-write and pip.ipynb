{
 "cells": [
  {
   "cell_type": "markdown",
   "metadata": {},
   "source": [
    "### Упражнение на списки и функции\n",
    "(с файлами их всегда много)\n",
    "\n",
    "Дана строчка sequence с последовательностью натуральных чисел, разделенных пробелом. Посчитайте:\n",
    "1. Количество четных и нечетных чисел в этой строке\n",
    "2. Если четных больше, то укажите номер позиции первого \"лишнего\" нечетного числа\n",
    "3. Если нечетных больше, то укажите позицию первого \"лишнего\" четного числа\n",
    "4. Как бонусный вариант оформите код в виде функции"
   ]
  },
  {
   "cell_type": "code",
   "execution_count": 34,
   "metadata": {},
   "outputs": [
    {
     "name": "stdout",
     "output_type": "stream",
     "text": [
      "[2, 3, 1, 5, 9, 22, 3, 5]\n",
      "seq[i] is even, = 2\n",
      "seq[i] is odd, = 3\n",
      "seq[i] is odd, = 1\n",
      "seq[i] is odd, = 5\n",
      "seq[i] is odd, = 9\n",
      "seq[i] is even, = 22\n",
      "seq[i] is odd, = 3\n",
      "seq[i] is odd, = 5\n",
      "[2, 22]\n",
      "Количество чётных чисел = 2, количество нечётных чисел = 6\n",
      "С номера 3 начинаются дополнительные нечётные числа\n"
     ]
    }
   ],
   "source": [
    "sequence = '2 3 1 5 9 22 3 5'\n",
    "seq_splitted=sequence.split()\n",
    "seq_int=map(int,seq_splitted)\n",
    "seq_list=list(seq_int)\n",
    "print(seq_list)\n",
    "even_in_seq=[]\n",
    "odd_in_seq=[]\n",
    "\n",
    "def find_first_out(seq):\n",
    "    for i in range(0,len(seq)):\n",
    "        if seq[i]%2==0:\n",
    "            print(f'seq[i] is even, = {seq[i]}')\n",
    "            even_in_seq.append(seq[i])\n",
    "        else:\n",
    "            print(f'seq[i] is odd, = {seq[i]}')\n",
    "            odd_in_seq.append(seq[i])\n",
    "    print(even_in_seq)\n",
    "    print (f'Количество чётных чисел = {len(even_in_seq)}, количество нечётных чисел = {len(odd_in_seq)}')\n",
    "    if len(even_in_seq)-len(odd_in_seq) >0:\n",
    "        print (f'С номера {len(odd_in_seq)+1} начинаются дополнительные чётные числа')\n",
    "    if len(even_in_seq)-len(odd_in_seq) <0:\n",
    "        print (f'С номера {len(even_in_seq)+1} начинаются дополнительные нечётные числа')\n",
    "\n",
    "\n",
    "find_first_out(seq_list)\n"
   ]
  },
  {
   "cell_type": "markdown",
   "metadata": {},
   "source": [
    "Может пригодиться:"
   ]
  },
  {
   "cell_type": "code",
   "execution_count": null,
   "metadata": {},
   "outputs": [],
   "source": [
    "# получить список из строки\n",
    "sequence.split(' ')"
   ]
  },
  {
   "cell_type": "code",
   "execution_count": null,
   "metadata": {},
   "outputs": [],
   "source": [
    "# перевод строки в целое число\n",
    "int('2')"
   ]
  },
  {
   "cell_type": "code",
   "execution_count": null,
   "metadata": {},
   "outputs": [],
   "source": [
    "# проверка четности\n",
    "22 % 2 == 0"
   ]
  },
  {
   "cell_type": "code",
   "execution_count": null,
   "metadata": {},
   "outputs": [],
   "source": []
  },
  {
   "cell_type": "code",
   "execution_count": null,
   "metadata": {},
   "outputs": [],
   "source": []
  },
  {
   "cell_type": "code",
   "execution_count": null,
   "metadata": {},
   "outputs": [],
   "source": []
  },
  {
   "cell_type": "markdown",
   "metadata": {},
   "source": [
    "# Чтение файлов\n",
    "Рассматриваем задачу сквозной аналитики. Будем работать с этими файлами:\n",
    "- visit_log.csv\n",
    "- purchase_log.txt"
   ]
  },
  {
   "cell_type": "markdown",
   "metadata": {},
   "source": [
    "### Способ 1. Делаем все пошагово\n",
    "Опции при открытии файлов:\n",
    "- 'r' открыть для чтения. Файл при этом не меняется\n",
    "- 'w' открыть файл для записи. Файл при этом полностью чистится (!)\n",
    "- 'a' открыть файл для добавления. Файл не меняется, все записи добавляются в конец"
   ]
  },
  {
   "cell_type": "code",
   "execution_count": null,
   "metadata": {},
   "outputs": [],
   "source": [
    "# открываем файл для чтения (опция r)\n",
    "f = open('visit_log.csv', 'r')"
   ]
  },
  {
   "cell_type": "code",
   "execution_count": null,
   "metadata": {
    "scrolled": true
   },
   "outputs": [],
   "source": [
    "# прочитать первую строчку\n",
    "f.readline()"
   ]
  },
  {
   "cell_type": "code",
   "execution_count": null,
   "metadata": {},
   "outputs": [],
   "source": [
    "# прочитать еще одну\n",
    "f.readline()"
   ]
  },
  {
   "cell_type": "code",
   "execution_count": null,
   "metadata": {},
   "outputs": [],
   "source": [
    "# можно и так\n",
    "next(f)"
   ]
  },
  {
   "cell_type": "code",
   "execution_count": null,
   "metadata": {},
   "outputs": [],
   "source": [
    "# прочитать все содержимое файла в переменную content\n",
    "content = f.readlines()"
   ]
  },
  {
   "cell_type": "code",
   "execution_count": null,
   "metadata": {},
   "outputs": [],
   "source": [
    "content[:5]"
   ]
  },
  {
   "cell_type": "code",
   "execution_count": null,
   "metadata": {},
   "outputs": [],
   "source": [
    "# построчное чтение файла\n",
    "for line in f:\n",
    "    print(line)\n",
    "    \n",
    "    break"
   ]
  },
  {
   "cell_type": "markdown",
   "metadata": {},
   "source": [
    "Часто используется конструкция \n",
    "```python\n",
    "another_line.strip().split(',')\n",
    "```"
   ]
  },
  {
   "cell_type": "code",
   "execution_count": null,
   "metadata": {},
   "outputs": [],
   "source": [
    "another_line = f.readline()\n",
    "another_line"
   ]
  },
  {
   "cell_type": "code",
   "execution_count": null,
   "metadata": {},
   "outputs": [],
   "source": [
    "# удаляем перенос строки и лишние пробелы\n",
    "another_line.strip()"
   ]
  },
  {
   "cell_type": "code",
   "execution_count": null,
   "metadata": {},
   "outputs": [],
   "source": [
    "# разбиваем столбцы\n",
    "another_line.strip().split(',')"
   ]
  },
  {
   "cell_type": "code",
   "execution_count": null,
   "metadata": {},
   "outputs": [],
   "source": [
    "# закрытие файла\n",
    "f.close()"
   ]
  },
  {
   "cell_type": "code",
   "execution_count": null,
   "metadata": {},
   "outputs": [],
   "source": [
    "# после закрытия не получится прочитать\n",
    "f.readline()"
   ]
  },
  {
   "cell_type": "code",
   "execution_count": null,
   "metadata": {},
   "outputs": [],
   "source": [
    "# прочитать все строчки файла в список (т. е. в оперативную память)\n",
    "f = open('visit_log.csv', 'r')\n",
    "\n",
    "content = f.readlines()\n",
    "\n",
    "f.close()"
   ]
  },
  {
   "cell_type": "code",
   "execution_count": null,
   "metadata": {},
   "outputs": [],
   "source": [
    "content[:5]"
   ]
  },
  {
   "cell_type": "markdown",
   "metadata": {},
   "source": [
    "### Упражнение\n",
    "Напишите функцию (или просто код), который возвращает список из первых N строк файла purchase_log.txt без записи всего содержимого файла в оперативную память."
   ]
  },
  {
   "cell_type": "code",
   "execution_count": 33,
   "metadata": {},
   "outputs": [
    {
     "name": "stdout",
     "output_type": "stream",
     "text": [
      "1111111111\n",
      "\n",
      "\n",
      "\n",
      "\n",
      "\n",
      "\n",
      "\n",
      "\n",
      "\n",
      "\n",
      "\n",
      "Книга спокойствия                                                         (кит. оригинал: Хучжи-Зенгуе; Вансонг-Синьлу; англ. перевод: Томас Клири; рус. перевод: Заур Зарамукович Гошоков).\n",
      "\n",
      "\n",
      "\n",
      "\n",
      "\n",
      "\n",
      "\n",
      "\n",
      "\n",
      "\n",
      "\n",
      "\n",
      "\n",
      "\n",
      "\n",
      "\n",
      "\n",
      "\n",
      "\n",
      "Содержание:\n",
      "\n",
      "Случай 1: Почитаемый миром поднимается на сидение 5  ",
      "Случай 2: Бодхидхарма «Пуста» 6  ",
      "Случай 3: Приглашение Патриарха Восточной Индии 8 ",
      "Случай 4: Почитаемый миром указывает на землю 10  ",
      "Случай 5: Цинь-Юань и цена риса 11  ",
      "Случай 6: Ма-Цзу «чёрное и белое» 12  ",
      "Случай 7: Янь-Шань поднимается на сидение 14  ",
      "Случай 8: Хакудзё и лиса 15 ",
      "Случай 9: Нансен убивает кошку 17  ",
      "Случай 10: Женщина из Тай-Шаня 19  ",
      "Случай 11: Юнь-Мень (Уммон) «Две болезни» 21  ",
      "Случай 12: Кшитигарбха засеивает поля 23  ",
      "Случай 13: Риндзай «Слепой осёл» 25  ",
      "Случай 14: Ученик Хао подаёт чай 27  ",
      "Случай 15: Янь-Шань сажает мотыгу 29  ",
      "Случай 16: Ма-Ку трясет посохом 30  ",
      "Случай 17: Фо-Юань «Тоньше волоса» 32  ",
      "Случай 18: Дзёсю «Собака» 33  ",
      "Случай 19: Юнь-Мень «Сумеру» 35  ",
      "Случай 20: Кшитигарбха «Ближе всего» 36  ",
      "Случай 21: Юн-Йен перепахивает поле 38 ",
      "Случай 22: Йен-То «Поклонись и крикни» 39 ",
      "Случай 23: Лу-Цзу поворачивается к стене 40  ",
      "Случай 24: Сеппо «Берегись змеи» 41  ",
      "Случай 25: Йен-Куан  «Носорог» 43 ",
      "Случай 26: Янь-Шань указывает на снег 44  ",
      "Случай 27: Фо-Юань указывет на шторы. 46  ",
      "Случай 28: Ху-Чжао  «Три позора» 47  ",
      "Случай 29:  Фукэцу «Проделки железного быка» 48  ",
      "Случай 30: Та-Цзуи «Пламя эона» 50  ",
      "Случай 31:  Юнь-Мень «Столб» 52  ",
      "Случай 32: Янь-Шань «Ум и окружающий мир» 53  ",
      "Случай 33:  Сань-Шань «Золотая рыбка» 55  ",
      "Случай 34: Фукэцу  «Одна частица пыли» 57  ",
      "Случай 35: Лу-По «Принятие» 59  ",
      "Случай 36: Мастер Ма чувствует себя плохо 61 ",
      "Случай 37: Кэй-Шань (Исан) «Активное сознание» 62  ",
      "Случай 38: Риндзай  «Истинный человек» 64  ",
      "Случай 39: Дзёсю «Помой свою миску» 66  ",
      "Случай 40: Юнь-Мень, Ху-Бай и Хо-Хэй 67  ",
      "Случай 41: Лу-По Скоро умрёт 69  ",
      "Случай 42: Наньин(Чанг) «Кувшин для воды» 71  ",
      "Случай 43: Ро-Шань «Появляясь и исчезая» 73  ",
      "Случай 44: Синь-Янь «Гаруда» 74  ",
      "Случай 45: «Четыре раздела» Сутры Безупречного Просветления 76  ",
      "Случай 46: Ду-Шань (Тозан) «Обучение окончено» 77  ",
      "Случай 47: Дзёсю «Кипарис во дворе» 78  ",
      "Случай 48: Вималакирти «Врата недвойственности» 79  ",
      "Случай 49: Тянь-Шань делает подношения картине 81 ",
      "Случай 50: Сеппо «Что?» 83  ",
      "Случай 51: Фо-Юань «Лодка или земля» 85  ",
      "Случай 52: Тя-Шань  «Тело реальности» 87  ",
      "Случай 53: «Пожиратели отбросов» Хуанг-Бо (Обаку) 89  ",
      "Случай 54: Юнь-Йен «Великое сострадание» 90  ",
      "Случай 55: Сеппо «Варка риса» 92  ",
      "Случай 56: Духовный отец Ми и кролик 94 ",
      "Случай 57: Янь-Йен «Это» 96  ",
      "Случай 58: «Презрительное поношение» сутры Алмазного резака 97  ",
      "Случай 59: Цин-Линь «Мертвая змея» 99 ",
      "Случай 60: Железный точильный камень Лу «Корова» 101  ",
      "Случай 61: Цзя-Фэнь «Одно» 102  ",
      "Случай 62: Ми-Фу «Просветлён или нет?» 103  ",
      "Случай 63: Дзёсю спрашивает о смерти  104 ",
      "Случай 64: Цзи-Цзао « Преемственность» 105  ",
      "Случай 65: Шу-Шань «Новая невеста» 107  ",
      "Случай 66: Джу-Фэнь  «Голова и хвост» 108  ",
      "Случай 67: Сутра цветочной гирлянды «Мудрость» 110  ",
      "Случай 68: Джи-Шань «Взмахивая мечом» 112  ",
      "Случай 69: Нансен «Коровы» 114  ",
      "Случай 70: Джи-Шань спрашивает о природе 115 ",
      "Случай 71: Цсю-Йен «Брови» 117  ",
      "Случай 72: Сон-Чжи «Обезьяна» 119 ",
      "Случай 73: Чао-Шань «Исполнение сыновей почтительности» 121  ",
      "Случай 74: Фо-Юань «Имя и форма» 123 ",
      "Случай 75: Рю-Янь «Постоянный принцип» 125 ",
      "Случай 76: Шао-Шань «Три фразы» 126 ",
      "Случай 77: Янь-Шань «Хватит» 127 ",
      "Случай 78: Юнь-Мень «Кужутный пирог» 129  ",
      "Случай 79: Чань-Ша «Делая шаг» 130  ",
      "Случай 80: Лунг-Я «Перепрыгивая опору» 132  ",
      "Случай 81: Куанг-Ши приходит в город 134  ",
      "Случай 82: Юн-Мень «Звук и форма» 135  ",
      "Случай 83: Даоу ухаживает за больными 136  ",
      "Случай 84: Цзю-Цжи «Один палец» 138  ",
      "Случай 85: «Бесшовный (безупречный) монумент» государственного учителя Чанга 139 ",
      "Случай 86: Риндзай Великое Просветление 141  ",
      "Случай 87: Шу-Шань «Существование и не существование» 143  ",
      "Случай 88: Шурангама-сутра: «не видит» 145 ",
      "Случай 89: Тодзан «Не трава» 147  ",
      "Случай 90: Янь-Шань «Заявление» 148 ",
      "Случай 91: Нансен «Пеоны» 150  ",
      "Случай 92: Юнь-Мень «Сокровище» 151 ",
      "Случай 93: Лу-Цзу не понимает 153  ",
      "Случай 94: Тодзан чувствует себя плохо 155 ",
      "Случай 95: Риндзай «Одна линия» 157  ",
      "Случай 96: Цзю-Фень «Несогласие» 159 ",
      "Случай 97: Шлем императора Тон-Гуана 162 ",
      "Случай 98: Тодзан «Всегда близко» 164 ",
      "Случай 99: Юнь-Мень «Чаша и ведро» 165 ",
      "Случай 100: Лунг-Я «Горы и реки» 166  ",
      "Послесловие 168 \n",
      "\n",
      "Как читать случаи\n",
      "\n",
      "Структура текста:\n",
      "\n",
      "\n",
      "\n",
      "Наставления от Вансонга:\n",
      "\n",
      "                                                                                                                                             Случаи, собранные Тиантонгом (Хучжи-Зенгуе).\n",
      "\n",
      "\n",
      "\n",
      "Подстрочные комментарии (Агйо) от  Вансонга\n",
      "\n",
      "                                                                                                                                              Стих от Тиантонга с комментариями между строк (Агйо) от Вансонга.\n",
      "\n",
      "\n",
      "\n",
      "\n",
      "\n",
      "\n",
      "\n",
      "\n",
      "\n",
      "\n",
      "\n",
      "\n",
      "\n",
      "\n",
      "\n",
      "\n",
      "\n",
      "\n",
      "\n",
      "\n",
      "\n",
      "\n",
      "\n",
      "\n",
      "\n",
      "\n",
      "\n",
      "Случай 1 \n",
      "\n",
      "«Почитаемый миром поднимается на сидение».\n",
      "\n",
      "Наставления                                                                                                                               \n",
      "\n",
      " \n",
      "\n",
      "\tДаже если ты закроешь ворота и уснёшь, то сможешь наставлять тех кто обладает наивысшими способностями. Ты можешь грозно смотреть и хмуриться, изгибать и растягивать своё тело — только для тех кто обладает средними и малыми способностями. Сможешь ли ты спокойно усидеть на резном троне и глядеть глазами Мары?Если есть кто-то несогласный, то пусть выйдет вперёд. Я не стал бы называть его чудаком.\n",
      "\n",
      "Случай\n",
      "\n",
      "Однажды Почитаемый миром поднялся на своё сидение1. Манджушри ударил молотом (судьи) и сказал: «Ясно созерцай Дхарму Короля Дхармы, Дхарма Короля Дхармы такова»2. Почитаемый миром спустился с сидения3.\n",
      "\n",
      "Комментарии (агйо)\n",
      "\n",
      "\n",
      "\n",
      "1. Сегодня ему не сидится на месте.\n",
      "\n",
      "2. Я не знаю, что у него на уме.\n",
      "\n",
      "3. Попробуй еще раз в другой день.\n",
      "\n",
      "\n",
      "\n",
      "Почитаемый миром - Будда.                                                                                                                                                     В данном случае бить молотом судьи— провозглашать что-то важное (суждение и т.д).\n",
      "\n",
      "\n",
      "\n",
      "Стих:\n",
      "\n",
      "Особенный ветер реальности, смотри, 1-\n",
      "\n",
      "Станок творения свой челнок запустил 2.\n",
      "\n",
      "Плетёт старинный узор, формы весны вкрапляет,3 \n",
      "\n",
      "Но ничего не сделает с тем, что Манджушри нам оставляет.4\n",
      "\n",
      "\n",
      "\n",
      "Комментарии (агйо)\n",
      "\n",
      "\n",
      "\n",
      "1. Не позволяй дуть ему в твои глаза. Пыль очень трудно выбить.\n",
      "\n",
      "2. Бесконечные различия включены в пряжу.\n",
      "\n",
      "3. Великий мастер, хотя и неуклюж.\n",
      "\n",
      "4. Инь и Янь не имеют преемственности, времена года не заходят друг за друга.\n",
      "\n",
      "\n",
      "\n",
      "\n",
      "\n",
      "\n",
      "\n",
      "\n",
      "\n",
      "\n",
      "\n",
      "Случай 2 \n",
      "\n",
      "Бодхидхарма (Дарума) «Пуста».\n",
      "\n",
      "Наставления \n",
      "\n",
      "\t Биан Хе пытался подарить камень императору три раза, но не избежал наказания. Когда сияющий камень кидают кому-то, лишь немногие не достанут свой меч.                                  У импровизированного хозяина нет импровизированного гостя, то что допустимо для временного (меняющегося) недопустимо для реального. Если диковинные сокровища и редкие драгоценные камни нельзя применить с пользой, то я обменяю их на голову мёртвой кошки. Смотри! \n",
      "\n",
      "Случай\n",
      "\n",
      "Император Ву из Лианя спросил великого мастера Бодхидхарму1 : «Я построил множество храмов, перевёл множество сутр и всячески способствую распространению Учения, сколько заслуг я получил?».                                                                                                                            Бодхидхарма ответил : «Никаких заслуг».                                                                                               Ву спросил: «Тогда в чём высшее значение Благородной Истины?»2.                                                                      Бодхидхарма сказал: «Пуста, без святости»3.                                                                              Император сказал: «Тогда кто же стоит передо мной?»4.                                                                 Бодхидхарма ответил: «Я не знаю»5.                                                                                             Император не понял6. После этого Бодхидхарма пересек Жёлтую реку, поселился в провинции Вей и сидел перед стеной в медитации девять лет 7.\n",
      "\n",
      "\n",
      "\n",
      "Комментарии (агйо)\n",
      "\n",
      "\n",
      "\n",
      "1. Даже вставая на рассвете он так и не получил никакой прибыли на рынке.\n",
      "\n",
      "2. На какое-то время он обращается к мирскому.\n",
      "\n",
      "3. Он открыл свой рот и показал внутренности и сердце.\n",
      "\n",
      "4. Он обнаружил клыки в своих ноздрях.\n",
      "\n",
      "5. Если ты видишь щёки со стороны спины...\n",
      "\n",
      "6. Квадратный брус не вставить в круглое отверстие.\n",
      "\n",
      "7. Дом без излишков товара (про запас) не процветает.\n",
      "\n",
      "                                                                                                                                                                       \n",
      "\n",
      "Стих:\n",
      "\n",
      "Пуста, ничего святого1 -\n",
      "\n",
      "Как же это недалёко!2\n",
      "\n",
      "Если он прав, то взмахивает топором не повредив носа,3\n",
      "\n",
      "Если нет, то бросает кувшин даже не посмотрев косо.4\n",
      "\n",
      "Неподвижный и тихий он сидел в Шао-Лине долго.5\n",
      "\n",
      "В тишине он постиг истинный императив:6\n",
      "\n",
      "Осенью чистой луны повернётся диск.7\n",
      "\n",
      "Млечный путь тонок, Медведица повернёт в руках светильник8,\n",
      "\n",
      "Рясу и чашу наследники получили.9\n",
      "\n",
      "От этих людей и богов рецепт лекарства нам пришёл.10\n",
      "\n",
      "\n",
      "\n"
     ]
    }
   ],
   "source": [
    "def readnlines (filename):\n",
    "    i=0\n",
    "    content=list()\n",
    "    f=open(filename,'r')\n",
    "    \n",
    "    for i in range (100):\n",
    "        appendix=f.readline()\n",
    "        content.append(appendix)\n",
    "\n",
    "    for i in range (100):\n",
    "        print(content[i],end='\\n')\n",
    "\n",
    "readnlines('ZenBook.txt')"
   ]
  },
  {
   "cell_type": "code",
   "execution_count": null,
   "metadata": {},
   "outputs": [],
   "source": []
  },
  {
   "cell_type": "code",
   "execution_count": null,
   "metadata": {},
   "outputs": [],
   "source": []
  },
  {
   "cell_type": "markdown",
   "metadata": {},
   "source": [
    "# Запись в файл\n",
    "Зачем все-таки открывать и закрывать файлы?"
   ]
  },
  {
   "cell_type": "code",
   "execution_count": null,
   "metadata": {},
   "outputs": [],
   "source": [
    "f = open('results.csv', 'w')"
   ]
  },
  {
   "cell_type": "code",
   "execution_count": null,
   "metadata": {},
   "outputs": [],
   "source": [
    "f.write('Начинаю запись первой строки...\\n')"
   ]
  },
  {
   "cell_type": "code",
   "execution_count": null,
   "metadata": {},
   "outputs": [],
   "source": [
    "f.write('Начинаю запись второй строки...\\n')"
   ]
  },
  {
   "cell_type": "markdown",
   "metadata": {},
   "source": [
    "Здесь кто-то еще хочет в него записать"
   ]
  },
  {
   "cell_type": "code",
   "execution_count": null,
   "metadata": {},
   "outputs": [],
   "source": [
    "my_friend_results = open('results.csv', 'w')"
   ]
  },
  {
   "cell_type": "code",
   "execution_count": null,
   "metadata": {},
   "outputs": [],
   "source": [
    "my_friend_results.write('Тут еще результаты есть')"
   ]
  },
  {
   "cell_type": "code",
   "execution_count": null,
   "metadata": {},
   "outputs": [],
   "source": [
    "# пишем свой результат\n",
    "f.close()"
   ]
  },
  {
   "cell_type": "code",
   "execution_count": null,
   "metadata": {},
   "outputs": [],
   "source": [
    "# и наш результат перезатирается\n",
    "my_friend_results.close()"
   ]
  },
  {
   "cell_type": "markdown",
   "metadata": {},
   "source": [
    "### Контекстный менеджер\n",
    "Как обезопасить себя от подобных накладок"
   ]
  },
  {
   "cell_type": "code",
   "execution_count": null,
   "metadata": {},
   "outputs": [],
   "source": [
    "with open('results.csv', 'w') as f:\n",
    "    f.write('Начинаю запись первой строки...\\n')\n",
    "    f.write('Начинаю запись второй строки...\\n')\n",
    "    \n",
    "    my_friend_results = open('results.csv', 'w')\n",
    "    my_friend_results.write('Тут еще результаты есть')\n",
    "    my_friend_results.close()"
   ]
  },
  {
   "cell_type": "markdown",
   "metadata": {},
   "source": [
    "### Упражнение\n",
    "Напишите функцию, которая фильтрует файл visit_log.csv по источнику context и пишет результат в visits_context.csv. Используйте функцию из второго упражнения для проверки результата."
   ]
  },
  {
   "cell_type": "code",
   "execution_count": null,
   "metadata": {},
   "outputs": [],
   "source": []
  },
  {
   "cell_type": "code",
   "execution_count": null,
   "metadata": {},
   "outputs": [],
   "source": []
  },
  {
   "cell_type": "code",
   "execution_count": null,
   "metadata": {},
   "outputs": [],
   "source": []
  },
  {
   "cell_type": "markdown",
   "metadata": {},
   "source": [
    "# Чтение списков и словарей из файла\n",
    "Смотрим что в файле purchase_log.txt. Похоже тут не строки, а словари"
   ]
  },
  {
   "cell_type": "code",
   "execution_count": null,
   "metadata": {},
   "outputs": [],
   "source": [
    "with open('purchase_log.txt') as f:\n",
    "    print([next(f) for x in range(5)])"
   ]
  },
  {
   "cell_type": "code",
   "execution_count": null,
   "metadata": {},
   "outputs": [],
   "source": [
    "import json"
   ]
  },
  {
   "cell_type": "code",
   "execution_count": null,
   "metadata": {},
   "outputs": [],
   "source": [
    "# перевод строки в словарь\n",
    "dict_in_string = '{\"a\": 1, \"b\": 2}'\n",
    "\n",
    "type(json.loads(dict_in_string))"
   ]
  },
  {
   "cell_type": "code",
   "execution_count": null,
   "metadata": {},
   "outputs": [],
   "source": [
    "# перевод строки в список\n",
    "list_in_string = '[1, 2, 3]'\n",
    "\n",
    "json.loads(list_in_string)[-1]\n",
    "\n",
    "# Vova: это \"-1 ый\", он же — последний элемент словаря из json.loads (то есть сами данные без ключей, наверное)\n"
   ]
  },
  {
   "cell_type": "code",
   "execution_count": 78,
   "metadata": {},
   "outputs": [
    {
     "name": "stdout",
     "output_type": "stream",
     "text": [
      "{'user_id': 'user_id', 'category': 'category'} <class 'dict'>\n",
      "{'user_id': '1840e0b9d4', 'category': 'Продукты'} <class 'dict'>\n",
      "{'user_id': '4e4f90fcfb', 'category': 'Электроника'} <class 'dict'>\n",
      "{'user_id': 'afea8d72fc', 'category': 'Электроника'} <class 'dict'>\n",
      "{'user_id': '373a6055fe', 'category': 'Бытовая техника'} <class 'dict'>\n",
      "{'user_id': '9b2ab046f3', 'category': 'Электроника'} <class 'dict'>\n"
     ]
    }
   ],
   "source": [
    "i = 0\n",
    "with open('purchase_log.txt') as f:\n",
    "    for line in f:\n",
    "        line = line.strip()\n",
    "        \n",
    "        dict_ = json.loads(line)\n",
    "        print(dict_, type(dict_))\n",
    "        \n",
    "        i += 1\n",
    "        if i > 5:\n",
    "            break"
   ]
  },
  {
   "cell_type": "markdown",
   "metadata": {},
   "source": [
    "### Упражнение\n",
    "1. Посчитайте распределение количества покупок по категориям в столбце category\n",
    "2. Составьте словарь, в котором для каждого user_id значением будет название категории"
   ]
  },
  {
   "cell_type": "code",
   "execution_count": null,
   "metadata": {},
   "outputs": [],
   "source": []
  },
  {
   "cell_type": "code",
   "execution_count": null,
   "metadata": {},
   "outputs": [],
   "source": []
  },
  {
   "cell_type": "code",
   "execution_count": null,
   "metadata": {},
   "outputs": [],
   "source": []
  },
  {
   "cell_type": "markdown",
   "metadata": {},
   "source": [
    "### Из словаря в строку тоже можно"
   ]
  },
  {
   "cell_type": "code",
   "execution_count": null,
   "metadata": {},
   "outputs": [],
   "source": [
    "data = {'user_id': '1840e0b9d4', 'category': 'Продукты'}"
   ]
  },
  {
   "cell_type": "code",
   "execution_count": null,
   "metadata": {
    "scrolled": true
   },
   "outputs": [],
   "source": [
    "json.dumps(data)"
   ]
  },
  {
   "cell_type": "code",
   "execution_count": null,
   "metadata": {},
   "outputs": [],
   "source": [
    "type(json.dumps(data))"
   ]
  },
  {
   "cell_type": "markdown",
   "metadata": {},
   "source": [
    "# Модуль pickle\n",
    "Запись объекта сразу в файл как поток байтов"
   ]
  },
  {
   "cell_type": "code",
   "execution_count": null,
   "metadata": {},
   "outputs": [],
   "source": [
    "import pickle"
   ]
  },
  {
   "cell_type": "code",
   "execution_count": null,
   "metadata": {},
   "outputs": [],
   "source": [
    "data = {'user_id': '1840e0b9d4', 'category': 'Продукты'}"
   ]
  },
  {
   "cell_type": "code",
   "execution_count": null,
   "metadata": {},
   "outputs": [],
   "source": [
    "with open('data.pickle', 'wb') as f:\n",
    "    pickle.dump(data, f)"
   ]
  },
  {
   "cell_type": "code",
   "execution_count": null,
   "metadata": {},
   "outputs": [],
   "source": [
    "# прочитать объект из такого файла\n",
    "\n",
    "with open('data.pickle', 'rb') as f:\n",
    "    dict_ = pickle.load(f)\n",
    "    \n",
    "dict_, dict_['user_id']"
   ]
  },
  {
   "cell_type": "markdown",
   "metadata": {},
   "source": [
    "# Чтение файлов из папки"
   ]
  },
  {
   "cell_type": "code",
   "execution_count": null,
   "metadata": {},
   "outputs": [],
   "source": [
    "import os"
   ]
  },
  {
   "cell_type": "code",
   "execution_count": null,
   "metadata": {},
   "outputs": [],
   "source": [
    "# чтение файлов и папок\n",
    "for file in os.listdir('data'):\n",
    "    print(file)"
   ]
  },
  {
   "cell_type": "code",
   "execution_count": null,
   "metadata": {},
   "outputs": [],
   "source": [
    "# чтение всех файлов и папок, в том числе вложенных\n",
    "for root, directory, file in os.walk('data'):\n",
    "    print(root, directory, file)"
   ]
  },
  {
   "cell_type": "markdown",
   "metadata": {},
   "source": [
    "# Каталог пакетов pip (Python Package Index)\n",
    "Варианты установки\n",
    "1. С помощью Anaconda Navigator\n",
    "2. В командной строке (Terminal на маке)\n",
    "```bash\n",
    "pip install package_name\n",
    "```\n",
    "3. Скачать версию с github и установить вручную\n",
    "```bash\n",
    "pip install .\n",
    "```\n",
    "\n",
    "Пакеты устанавливаются в определенное окружение! Вам пригодится virtualenv"
   ]
  },
  {
   "cell_type": "code",
   "execution_count": null,
   "metadata": {},
   "outputs": [],
   "source": [
    "!pip install pyyaml"
   ]
  },
  {
   "cell_type": "code",
   "execution_count": null,
   "metadata": {},
   "outputs": [],
   "source": [
    "import plotly"
   ]
  },
  {
   "cell_type": "markdown",
   "metadata": {},
   "source": [
    "# Простой импорт"
   ]
  },
  {
   "cell_type": "code",
   "execution_count": null,
   "metadata": {},
   "outputs": [],
   "source": [
    "import sys\n",
    "sys.path"
   ]
  },
  {
   "cell_type": "code",
   "execution_count": null,
   "metadata": {},
   "outputs": [],
   "source": [
    "# добавляем в список библиотек папку libs\n",
    "sys.path.append('libs')\n",
    "sys.path"
   ]
  },
  {
   "cell_type": "code",
   "execution_count": null,
   "metadata": {},
   "outputs": [],
   "source": [
    "from useful_codes import CATEGORIES"
   ]
  },
  {
   "cell_type": "code",
   "execution_count": null,
   "metadata": {},
   "outputs": [],
   "source": [
    "CATEGORIES"
   ]
  },
  {
   "cell_type": "code",
   "execution_count": null,
   "metadata": {},
   "outputs": [],
   "source": [
    "from useful_codes import word_count"
   ]
  },
  {
   "cell_type": "code",
   "execution_count": null,
   "metadata": {},
   "outputs": [],
   "source": [
    "# посмотреть документацию функции\n",
    "\n",
    "?word_count"
   ]
  },
  {
   "cell_type": "code",
   "execution_count": null,
   "metadata": {},
   "outputs": [],
   "source": [
    "word_count('Посчитай количество слов в тексте')"
   ]
  },
  {
   "cell_type": "markdown",
   "metadata": {},
   "source": [
    "# Домашнее задание\n",
    "1. Переведите содержимое файла purchase_log.txt в словарь purchases вида:\n",
    "```python\n",
    "{'1840e0b9d4': 'Продукты', ...}\n",
    "```\n",
    "\n",
    "2. Для каждого user_id в файле visit_log.csv определите третий столбец с категорией покупки (если покупка была, сам файл visit_log.csv изменять не надо). Запишите в файл funnel.csv визиты из файла visit_log.csv, в которых были покупки с указанием категории.\n",
    "\n",
    "Учтите условия на данные:\n",
    "- содержимое purchase_log.txt помещается в оперативную память компьютера\n",
    "- содержимое visit_log.csv - нет; используйте только построчную обработку этого файла"
   ]
  },
  {
   "cell_type": "code",
   "execution_count": 99,
   "metadata": {
    "scrolled": true
   },
   "outputs": [
    {
     "name": "stdout",
     "output_type": "stream",
     "text": [
      "user_id category\n",
      "1840e0b9d4 Продукты\n",
      "4e4f90fcfb Электроника\n",
      "afea8d72fc Электроника\n",
      "373a6055fe Бытовая техника\n"
     ]
    }
   ],
   "source": [
    "import json\n",
    "# Вот так зачитать весь файл куском в f:\n",
    "# f=open('purchase_log.txt','r').read()\n",
    "\n",
    "strings={}\n",
    "i = 0\n",
    "\n",
    "with open('purchase_log.txt') as f:\n",
    "    for line in f:\n",
    "        line = line.strip()\n",
    "        dict_ = json.loads(line)\n",
    "        strings.update({dict_.get(\"user_id\"): dict_.get(\"category\")})\n",
    "        \n",
    "        \n",
    "for string in list(strings)[0:5]:\n",
    "    print(string,strings[string])\n",
    "\n",
    "\n",
    "\n",
    "\n"
   ]
  },
  {
   "cell_type": "code",
   "execution_count": 73,
   "metadata": {},
   "outputs": [],
   "source": [
    "strings=[]\n",
    "purchases={}\n",
    "i = 0\n",
    "\n",
    "with open('purchase_log.txt') as flog:\n",
    "    for line in flog:\n",
    "        line = line.strip()\n",
    "        dict_ = json.loads(line)\n",
    "        purchases.update({dict_.get(\"user_id\"): dict_.get(\"category\")})\n",
    "\n",
    "with open('visit_log.csv') as f:\n",
    "    while True:\n",
    "        line=f.readline()\n",
    "        if line=='':\n",
    "            break\n",
    "        visit = line.split(',')[0]\n",
    "        if visit in purchases: \n",
    "            strings.append(line)\n",
    "\n",
    "open('funnel.txt','w').writelines(strings)\n",
    "        \n",
    "\n",
    "        \n",
    "#    for line in f:        \n",
    "#        line = line.strip()\n",
    "#        dict_ = json.loads(line)\n",
    "#        if dict_ in strings:\n",
    "#            print(dict_)\n",
    "#        strings.update({dict_.get(\"user_id\"): dict_.get(\"category\")})\n",
    "#        print(dict_, type(dict_))\n"
   ]
  },
  {
   "cell_type": "code",
   "execution_count": null,
   "metadata": {},
   "outputs": [],
   "source": []
  },
  {
   "cell_type": "code",
   "execution_count": null,
   "metadata": {},
   "outputs": [],
   "source": []
  }
 ],
 "metadata": {
  "kernelspec": {
   "display_name": "Python 3",
   "language": "python",
   "name": "python3"
  },
  "language_info": {
   "codemirror_mode": {
    "name": "ipython",
    "version": 3
   },
   "file_extension": ".py",
   "mimetype": "text/x-python",
   "name": "python",
   "nbconvert_exporter": "python",
   "pygments_lexer": "ipython3",
   "version": "3.7.6"
  }
 },
 "nbformat": 4,
 "nbformat_minor": 2
}
