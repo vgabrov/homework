{
 "cells": [
  {
   "cell_type": "code",
   "execution_count": null,
   "metadata": {},
   "outputs": [],
   "source": []
  },
  {
   "cell_type": "code",
   "execution_count": null,
   "metadata": {},
   "outputs": [],
   "source": []
  },
  {
   "cell_type": "code",
   "execution_count": null,
   "metadata": {},
   "outputs": [],
   "source": []
  },
  {
   "cell_type": "code",
   "execution_count": null,
   "metadata": {},
   "outputs": [],
   "source": []
  },
  {
   "cell_type": "code",
   "execution_count": null,
   "metadata": {},
   "outputs": [],
   "source": []
  },
  {
   "cell_type": "code",
   "execution_count": 16,
   "metadata": {},
   "outputs": [
    {
     "name": "stdout",
     "output_type": "stream",
     "text": [
      "Идеальные пары:\n",
      "Alex и Emma\n",
      "Arthur и Kate\n",
      "John и Kira\n",
      "Peter и Liza\n",
      "Richard и Trisha\n"
     ]
    }
   ],
   "source": [
    "# Homework 2\n",
    "# Задача 2. Мы делаем MVP dating-сервиса, и у нас есть список парней и девушек (их число может варьироваться):\n",
    "\n",
    "#In [9]:\n",
    "#boys = ['Peter', 'Alex', 'John', 'Arthur', 'Richard']\n",
    "#girls = ['Kate', 'Liza', 'Kira', 'Emma', 'Trisha']\n",
    "#Выдвигаем гипотезу: лучшие рекомендации мы получим, если просто отсортируем имена по алфавиту и познакомим людей с одинаковыми индексами после сортировки! \"Познакомить\" пары нам поможет функция zip, а в цикле распакуем zip-объект и выведем информацию в виде:\n",
    "\n",
    "#Идеальные пары:\n",
    "#Alex и Emma\n",
    "#Arthur и Kate\n",
    "#John и Kira\n",
    "#Peter и Liza\n",
    "#Richard и Trisha\n",
    "\n",
    "#Внимание! Если количество людей в списках будет не совпадать, то мы никого знакомить не будет и выведем пользователю предупреждение, что кто-то может остаться без пары!\n",
    "\n",
    "boys = ['Peter', 'Alex', 'John', 'Arthur', 'Richard']\n",
    "girls = ['Kate', 'Liza', 'Kira', 'Emma', 'Trisha']\n",
    "\n",
    "if len(boys)!=len(girls):\n",
    "    print(\"Количество парней и девушек не совпадает, кто-то может остаться без пары!\")\n",
    "\n",
    "boys_sorted=sorted(boys)\n",
    "girls_sorted=sorted(girls)\n",
    "\n",
    "i=0\n",
    "print('Идеальные пары:')\n",
    "while i < len(boys):\n",
    "    print(f'{boys_sorted[i]} и {girls_sorted[i]}')\n",
    "    i+=1"
   ]
  },
  {
   "cell_type": "code",
   "execution_count": 30,
   "metadata": {},
   "outputs": [
    {
     "name": "stdout",
     "output_type": "stream",
     "text": [
      "Thailand = 23.86\n",
      "Germany = 13.71\n",
      "Russia = 3.71\n",
      "Poland = 11.86\n"
     ]
    }
   ],
   "source": [
    "# Homework 2\n",
    "# Задача 3. У нас есть список, содержащий информацию о среднедневной температуре в Фаренгейтах за недельный период по странам. \n",
    "# Необходимо написать код, который рассчитает среднюю температуру за неделю в Цельсиях для каждой страны.\n",
    "\n",
    "\n",
    "countries_temperature = [\n",
    " ['Thailand', [75.2, 77, 78.8, 73.4, 68, 75.2, 77]],\n",
    " ['Germany', [57.2, 55.4, 59, 59, 53.6, 55.4, 57.2]],\n",
    " ['Russia', [35.6, 37.4, 39.2, 41, 42.8, 39.2, 35.6]],\n",
    " ['Poland', [50, 50, 53.6, 57.2, 55.4, 55.4, 51.8]],\n",
    "]\n",
    "\n",
    "def temp_celcius_average(country_data):\n",
    "    country_celcius_average=list()\n",
    "    for i in range(0,len(country_data)):\n",
    "        #while j in range (0,len(country_data[i][1])):\n",
    "        country_celcius_average.append((sum(country_data[i][1])/len(country_data[i][1])-32)*5/9)\n",
    "    return country_celcius_average\n",
    "       \n",
    "for i in range (0,len(countries_temperature)):\n",
    "    print(f'{countries_temperature[i][0]} = {round(temp_celcius_average(countries_temperature)[i],2)}')         \n",
    "        "
   ]
  },
  {
   "cell_type": "code",
   "execution_count": 51,
   "metadata": {
    "scrolled": true
   },
   "outputs": [
    {
     "name": "stdout",
     "output_type": "stream",
     "text": [
      "1\n"
     ]
    }
   ],
   "source": [
    "# Homework 2\n",
    "# Задача 4. Дан поток логов по количеству просмотренных страниц для каждого пользователя. Список отсортирован по ID пользователя. \n",
    "# Вам необходимо написать алгоритм, который считает среднее значение просмотров на пользователя. \n",
    "# Т. е. надо посчитать отношение суммы всех просмотров к количеству уникальных пользователей.\n",
    "\n",
    "\n",
    "import collections\n",
    "\n",
    "stream = [\n",
    "    '2018-01-01,user1,3',\n",
    "    '2018-01-07,user1,4',\n",
    "    '2018-03-29,user1,1',\n",
    "    '2018-04-04,user1,13',\n",
    "    '2018-01-05,user2,7',\n",
    "    '2018-06-14,user3,4',\n",
    "    '2018-07-02,user3,10',\n",
    "    '2018-03-21,user4,19',\n",
    "    '2018-03-22,user4,4',\n",
    "    '2018-04-22,user4,8',\n",
    "    '2018-05-03,user4,9',\n",
    "    '2018-05-11,user4,11',\n",
    "]\n",
    "\n",
    "#??\n",
    "#def average_views_per_user(log):\n",
    "#    user_views_count = list()\n",
    "#    start = 'user'\n",
    "#    end = ','\n",
    "#    while i in range(0,len(log):\n",
    "#        user_views_count.append([log.find(start)+len(start):s.rfind(end)]\n",
    "#    return user_views\n",
    "\n",
    "    \n",
    "#print(average_views_per_user(stream))\n",
    "#??\n",
    "        "
   ]
  },
  {
   "cell_type": "code",
   "execution_count": 65,
   "metadata": {},
   "outputs": [
    {
     "name": "stdout",
     "output_type": "stream",
     "text": [
      "Введите дату (строку для поиска): 2018-01-03\n",
      "Введите название компании (строку для поиска): google\n",
      "Найдено\n",
      "Найдено\n",
      "Индексы: [1843, 1327]\n"
     ]
    }
   ],
   "source": [
    "# Homework 2\n",
    "# Задача 5. Дана статистика рекламных кампаний по дням. \n",
    "# Напишите алгоритм, который по паре дата-кампания ищет значение численного столбца. \n",
    "# Т. е. для даты '2018-01-01' и 'google' нужно получить число 25. Считайте, что все комбинации дата-кампания уникальны.\n",
    "\n",
    "\n",
    "stats = [\n",
    "    ['2018-01-01', 'google', 25],\n",
    "    ['2018-01-01', 'yandex', 65],\n",
    "    ['2018-01-01', 'market', 89],\n",
    "    ['2018-01-02', 'google', 574],\n",
    "    ['2018-01-02', 'yandex', 249],\n",
    "    ['2018-01-02', 'market', 994],\n",
    "    ['2018-01-03', 'google', 1843],\n",
    "    ['2018-01-03', 'google', 1327],\n",
    "    ['2018-01-03', 'market', 1764],\n",
    "]\n",
    "\n",
    "date = input(\"Введите дату (строку для поиска): \")\n",
    "company = input(\"Введите название компании (строку для поиска): \")\n",
    "indexes = list()\n",
    "i=0\n",
    "while i < len(stats):\n",
    "    if stats[i][0]==date and stats[i][1]==company:\n",
    "        print (\"Найдено\")\n",
    "        indexes.append(stats[i][2])\n",
    "    i+=1\n",
    "        \n",
    "print (f'Индексы: {indexes}')"
   ]
  },
  {
   "cell_type": "code",
   "execution_count": 74,
   "metadata": {},
   "outputs": [
    {
     "name": "stdout",
     "output_type": "stream",
     "text": [
      "j+1\n",
      "j+1\n",
      "j+1\n",
      "j+1\n",
      "i+1\n",
      "j+1\n",
      "j+1\n",
      "j+1\n",
      "j+1\n",
      "i+1\n",
      "j+1\n",
      "j+1\n",
      "j+1\n",
      "j+1\n",
      "i+1\n",
      "j+1\n",
      "j+1\n",
      "j+1\n",
      "j+1\n",
      "i+1\n",
      "103\n"
     ]
    }
   ],
   "source": [
    "# Homework 2\n",
    "# Задача 6. Дан список.\n",
    "# Напишите код, который будет вычислять сумму элементов на диагонали. Т. е. 13+32+23+35.\n",
    "# Список может быть любой длины, но всегда является \"квадратным\" (количество элементов во вложенных списках равно их количеству).\n",
    "\n",
    "data = [\n",
    "    [13, 25, 23, 34],\n",
    "    [45, 32, 44, 47],\n",
    "    [12, 33, 23, 95],\n",
    "    [13, 53, 34, 35]\n",
    "]\n",
    "\n",
    "diag_sum=i=j=0\n",
    "\n",
    "while i<len(data):\n",
    "    j=0\n",
    "    while j<len(data):\n",
    "        if i==j:\n",
    "            diag_sum+=data[i][j]\n",
    "        j+=1\n",
    "    i+=1\n",
    "\n",
    "print (diag_sum)\n",
    "    "
   ]
  },
  {
   "cell_type": "code",
   "execution_count": 76,
   "metadata": {},
   "outputs": [
    {
     "ename": "KeyError",
     "evalue": "2",
     "output_type": "error",
     "traceback": [
      "\u001b[0;31m---------------------------------------------------------------------------\u001b[0m",
      "\u001b[0;31mKeyError\u001b[0m                                  Traceback (most recent call last)",
      "\u001b[0;32m<ipython-input-76-c2aaa467a85a>\u001b[0m in \u001b[0;36m<module>\u001b[0;34m\u001b[0m\n\u001b[1;32m     18\u001b[0m \u001b[0mgeo_logs_Russia\u001b[0m\u001b[0;34m=\u001b[0m\u001b[0mlist\u001b[0m\u001b[0;34m(\u001b[0m\u001b[0;34m)\u001b[0m\u001b[0;34m\u001b[0m\u001b[0;34m\u001b[0m\u001b[0m\n\u001b[1;32m     19\u001b[0m \u001b[0;32mwhile\u001b[0m \u001b[0mi\u001b[0m \u001b[0;32min\u001b[0m \u001b[0mrange\u001b[0m\u001b[0;34m(\u001b[0m\u001b[0;36m0\u001b[0m\u001b[0;34m,\u001b[0m\u001b[0mlen\u001b[0m\u001b[0;34m(\u001b[0m\u001b[0mgeo_logs\u001b[0m\u001b[0;34m)\u001b[0m\u001b[0;34m)\u001b[0m\u001b[0;34m:\u001b[0m\u001b[0;34m\u001b[0m\u001b[0;34m\u001b[0m\u001b[0m\n\u001b[0;32m---> 20\u001b[0;31m     \u001b[0;32mif\u001b[0m \u001b[0mgeo_logs\u001b[0m\u001b[0;34m[\u001b[0m\u001b[0mi\u001b[0m\u001b[0;34m]\u001b[0m\u001b[0;34m[\u001b[0m\u001b[0;36m2\u001b[0m\u001b[0;34m]\u001b[0m\u001b[0;34m==\u001b[0m\u001b[0;34m'Россия'\u001b[0m\u001b[0;34m:\u001b[0m\u001b[0;34m\u001b[0m\u001b[0;34m\u001b[0m\u001b[0m\n\u001b[0m\u001b[1;32m     21\u001b[0m         \u001b[0mgeo_logs_Russia\u001b[0m\u001b[0;34m.\u001b[0m\u001b[0mappend\u001b[0m\u001b[0;34m(\u001b[0m\u001b[0mgeo_logs\u001b[0m\u001b[0;34m[\u001b[0m\u001b[0mi\u001b[0m\u001b[0;34m]\u001b[0m\u001b[0;34m)\u001b[0m\u001b[0;34m\u001b[0m\u001b[0;34m\u001b[0m\u001b[0m\n\u001b[1;32m     22\u001b[0m \u001b[0mprint\u001b[0m \u001b[0;34m(\u001b[0m\u001b[0mgeo_logs_Russia\u001b[0m\u001b[0;34m)\u001b[0m\u001b[0;34m\u001b[0m\u001b[0;34m\u001b[0m\u001b[0m\n",
      "\u001b[0;31mKeyError\u001b[0m: 2"
     ]
    }
   ],
   "source": [
    "# Homework 3\n",
    "# Задание 1. Дан список с визитами по городам и странам. \n",
    "# Напишите код, который возвращает отфильтрованный список geo_logs, содержащий только визиты из России.\n",
    "\n",
    "geo_logs = [\n",
    "    {'visit1': ['Москва', 'Россия']},\n",
    "    {'visit2': ['Дели', 'Индия']},\n",
    "    {'visit3': ['Владимир', 'Россия']},\n",
    "    {'visit4': ['Лиссабон', 'Португалия']},\n",
    "    {'visit5': ['Париж', 'Франция']},\n",
    "    {'visit6': ['Лиссабон', 'Португалия']},\n",
    "    {'visit7': ['Тула', 'Россия']},\n",
    "    {'visit8': ['Тула', 'Россия']},\n",
    "    {'visit9': ['Курск', 'Россия']},\n",
    "    {'visit10': ['Архангельск', 'Россия']}\n",
    "]\n",
    "\n",
    "geo_logs_Russia=list()\n",
    "while i in range(0,len(geo_logs)):\n",
    "    if geo_logs[i][2]=='Россия':\n",
    "        geo_logs_Russia.append(geo_logs[i])\n",
    "print (geo_logs_Russia)\n",
    "        "
   ]
  },
  {
   "cell_type": "code",
   "execution_count": null,
   "metadata": {},
   "outputs": [],
   "source": []
  },
  {
   "cell_type": "code",
   "execution_count": null,
   "metadata": {},
   "outputs": [],
   "source": []
  },
  {
   "cell_type": "code",
   "execution_count": null,
   "metadata": {},
   "outputs": [],
   "source": []
  },
  {
   "cell_type": "code",
   "execution_count": null,
   "metadata": {},
   "outputs": [],
   "source": []
  },
  {
   "cell_type": "code",
   "execution_count": null,
   "metadata": {},
   "outputs": [],
   "source": []
  },
  {
   "cell_type": "code",
   "execution_count": null,
   "metadata": {},
   "outputs": [],
   "source": []
  },
  {
   "cell_type": "code",
   "execution_count": null,
   "metadata": {},
   "outputs": [],
   "source": []
  },
  {
   "cell_type": "code",
   "execution_count": null,
   "metadata": {},
   "outputs": [],
   "source": []
  },
  {
   "cell_type": "code",
   "execution_count": null,
   "metadata": {},
   "outputs": [],
   "source": []
  },
  {
   "cell_type": "code",
   "execution_count": null,
   "metadata": {},
   "outputs": [],
   "source": []
  }
 ],
 "metadata": {
  "kernelspec": {
   "display_name": "Python 3",
   "language": "python",
   "name": "python3"
  },
  "language_info": {
   "codemirror_mode": {
    "name": "ipython",
    "version": 3
   },
   "file_extension": ".py",
   "mimetype": "text/x-python",
   "name": "python",
   "nbconvert_exporter": "python",
   "pygments_lexer": "ipython3",
   "version": "3.7.6"
  }
 },
 "nbformat": 4,
 "nbformat_minor": 2
}
