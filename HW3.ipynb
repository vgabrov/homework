{
 "cells": [
  {
   "cell_type": "code",
   "execution_count": null,
   "metadata": {},
   "outputs": [],
   "source": [
    "# Homework 3\n",
    "# Задание 1. Дан список с визитами по городам и странам. \n",
    "# Напишите код, который возвращает отфильтрованный список geo_logs, содержащий только визиты из России.\n",
    "\n",
    "geo_logs = [\n",
    "    {'visit1': ['Москва', 'Россия']},\n",
    "    {'visit2': ['Дели', 'Индия']},\n",
    "    {'visit3': ['Владимир', 'Россия']},\n",
    "    {'visit4': ['Лиссабон', 'Португалия']},\n",
    "    {'visit5': ['Париж', 'Франция']},\n",
    "    {'visit6': ['Лиссабон', 'Португалия']},\n",
    "    {'visit7': ['Тула', 'Россия']},\n",
    "    {'visit8': ['Тула', 'Россия']},\n",
    "    {'visit9': ['Курск', 'Россия']},\n",
    "    {'visit10': ['Архангельск', 'Россия']}\n",
    "]\n",
    "\n",
    "geo_logs_Russia=list()\n",
    "\n",
    "for i in range(0,len(geo_logs)):\n",
    "    for key in geo_logs[i]:\n",
    "        print(f'Визит {i+1}: {geo_logs[i][key]}')\n",
    "        if geo_logs[i][key][1]=='Россия':\n",
    "            geo_logs_Russia.append(geo_logs[i])\n",
    "\n",
    "print (f'\\nВизиты по России: {geo_logs_Russia}')\n",
    "        "
   ]
  },
  {
   "cell_type": "code",
   "execution_count": 25,
   "metadata": {},
   "outputs": [
    {
     "name": "stdout",
     "output_type": "stream",
     "text": [
      "[213, 15]\n",
      "[54, 119]\n",
      "[98, 35, 213]\n",
      "[[213, 213, 213, 15, 213], [54, 54, 119, 119, 119], [213, 98, 98, 35]]\n",
      "{98, 35, 15, 213, 54, 119}\n"
     ]
    }
   ],
   "source": [
    "# Homework 3\n",
    "# Задание 2. Выведите на экран все уникальные гео-ID из значений словаря ids. Т. е. список вида [213, 15, 54, 119, 98, 35]\n",
    "\n",
    "ids = {'user1': [213, 213, 213, 15, 213], \n",
    "       'user2': [54, 54, 119, 119, 119], \n",
    "       'user3': [213, 98, 98, 35]}\n",
    "ids_list=list()\n",
    "ids_flat_list=list()\n",
    "\n",
    "# Решение не красивое, т.к. это два примитвных цикла, наверняка есть однострочное решение\n",
    "for key in ids:\n",
    "        print(list(set(ids[key])))\n",
    "        ids_list.append(ids[key])\n",
    "for i in range (len(ids_list)):\n",
    "    for j in range (len(ids_list[i])):\n",
    "        ids_flat_list.append(ids_list[i][j])\n",
    "    \n",
    "print(ids_list)\n",
    "print(set(ids_flat_list))\n",
    "\n",
    "#for key in ids:\n",
    "#    print(ids[key])\n",
    "#    for i in range(0,len(ids[key])):\n",
    "#        if ids[key][i]==ids[key][i+1]:\n",
    "#            ids.popitem()"
   ]
  },
  {
   "cell_type": "code",
   "execution_count": 52,
   "metadata": {},
   "outputs": [
    {
     "name": "stdout",
     "output_type": "stream",
     "text": [
      "Длины элементов списка: [23, 14, 10, 12, 18, 14, 17]\n",
      "Количества слов в элементах списка: [3, 2, 2, 2, 3, 3, 3]\n",
      "Процентное вхождение строк разной длины: [43.0, 57.0]\n",
      " Строк длины 2 слов — 43%\n",
      " Строк длины 3 слов — 57%\n"
     ]
    }
   ],
   "source": [
    "# Задание 3. Дан список поисковых запросов. Получить распределение количества слов в них. \n",
    "# Т. е. поисковых запросов из одного - слова 5%, из двух - 7%, из трех - 3% и т.д.\n",
    "\n",
    "queries = [\n",
    "    'смотреть сериалы онлайн',\n",
    "    'новости спорта',\n",
    "    'афиша кино',\n",
    "    'курс доллара',\n",
    "    'сериалы этим летом',\n",
    "    'курс по питону',\n",
    "    'сериалы про спорт',\n",
    "]\n",
    "\n",
    "lengths_split=[]\n",
    "lengths_count=[]\n",
    "lengths_unique_count=[]\n",
    "lengths=[len(i) for i in queries]\n",
    "\n",
    "# !\n",
    "# Не уверен, что это правильное и короткое решение\n",
    "# !\n",
    "\n",
    "# Создадим список из количеств слов в каждом элементе исходного списка\n",
    "for j in queries:\n",
    "    lengths_split.append(len(j.split()))\n",
    "# Создадим список процентного вхождения строк каждой длины (пока с повторами)\n",
    "for m in lengths_split:\n",
    "#    print (lengths_split.count(m))\n",
    "    lengths_count.append(round(lengths_split.count(m)/len(queries)*100,0))\n",
    "# Оставим только уникальные и остортированные значения процентного вхождения длин строк\n",
    "lengths_unique_count=sorted(set(lengths_count))\n",
    "print (f'Длины элементов списка: {lengths}')\n",
    "print (f'Количества слов в элементах списка: {lengths_split}')\n",
    "print (f'Процентное вхождение строк разной длины: {lengths_unique_count}')\n",
    "\n",
    "for n in range(0,len(lengths_unique_count)):\n",
    "        print (f' Строк длины {sorted(set(lengths_split))[n]} слов — {int(lengths_unique_count[n])}%')\n",
    "\n"
   ]
  },
  {
   "cell_type": "code",
   "execution_count": 88,
   "metadata": {},
   "outputs": [
    {
     "name": "stdout",
     "output_type": "stream",
     "text": [
      "facebook\n",
      "yandex\n"
     ]
    }
   ],
   "source": [
    "# Задание 4. Дана статистика рекламных каналов по объемам продаж. \n",
    "# Напишите скрипт, который возвращает название канала с максимальным объемом. \n",
    "# Т. е. в данном примере скрипт должен возвращать 'yandex'.\n",
    "\n",
    "stats = {'facebook': 120, 'yandex': 120, 'vk': 115, 'google': 99, 'email': 42, 'ok': 98}\n",
    "\n",
    "for key, value in stats.items(): \n",
    "    if value == max(stats.values()):\n",
    "        print (key)"
   ]
  },
  {
   "cell_type": "code",
   "execution_count": 99,
   "metadata": {},
   "outputs": [
    {
     "name": "stdout",
     "output_type": "stream",
     "text": [
      "8\n"
     ]
    },
    {
     "data": {
      "text/plain": [
       "{'cpc': 40}"
      ]
     },
     "execution_count": 99,
     "metadata": {},
     "output_type": "execute_result"
    }
   ],
   "source": [
    "# Задание 5. Напишите код для преобразования произвольного списка вида ['2018-01-01', 'yandex', 'cpc', 100] \n",
    "# (он может быть любой длины) в словарь {'2018-01-01': {'yandex': {'cpc': 100}}}\n",
    "\n",
    "test_list = ['2018-01-01', 'yandex', 'cpc', 100,'2020-06-06','duckgo','cpc',40] \n",
    "\n",
    "def convert_list(string_list):\n",
    "    string_dict1={string_list[i]:string_list[i+1] for i in range(2,len(string_list),4)}\n",
    "    string_dict2={string_list[i]:string_dict1 for i in range(1,len(string_list),4)}\n",
    "    string_dict3={string_list[i]:string_dict2 for i in range(0,len(string_list),4)}\n",
    "    return string_dict1\n",
    "#??\n",
    "print(len(test_list))\n",
    "convert_list(test_list)\n",
    "\n"
   ]
  },
  {
   "cell_type": "code",
   "execution_count": null,
   "metadata": {},
   "outputs": [],
   "source": []
  }
 ],
 "metadata": {
  "kernelspec": {
   "display_name": "Python 3",
   "language": "python",
   "name": "python3"
  },
  "language_info": {
   "codemirror_mode": {
    "name": "ipython",
    "version": 3
   },
   "file_extension": ".py",
   "mimetype": "text/x-python",
   "name": "python",
   "nbconvert_exporter": "python",
   "pygments_lexer": "ipython3",
   "version": "3.7.6"
  }
 },
 "nbformat": 4,
 "nbformat_minor": 4
}
